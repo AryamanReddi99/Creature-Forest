{
 "cells": [
  {
   "cell_type": "code",
   "execution_count": 1,
   "metadata": {},
   "outputs": [
    {
     "name": "stdout",
     "output_type": "stream",
     "text": [
      "importing Jupyter notebook from Creature_Forest_Base.ipynb\n"
     ]
    }
   ],
   "source": [
    "import import_ipynb\n",
    "from Creature_Forest_Base import *"
   ]
  },
  {
   "cell_type": "code",
   "execution_count": 3,
   "metadata": {},
   "outputs": [
    {
     "name": "stdout",
     "output_type": "stream",
     "text": [
      "[998.0, 499.0, 332.33, 249.0, 165.67, 110.22, 70.57, 42.48, 29.3, 19.43, 12.57, 9.0, 6.41, 4.78, 3.5, 2.75, 2.2, 1.92, 1.59, 1.51, 1.16, 1.2, 1.17, 1.09, 1.03, 1.02, 0.91, 0.89, 0.81, 0.74, 0.74, 0.75, 0.83, 0.92, 0.98, 1.03, 1.01, 0.94, 0.99, 0.99, 0.94, 0.9, 0.92, 0.96, 1.01, 1.02, 0.91, 0.88, 0.91, 1.01, 1.01, 1.1, 1.1, 1.04, 0.91, 0.92, 1.02, 1.03, 1.15, 1.15, 1.11, 1.17, 1.04, 1.04, 0.99, 0.95, 0.99, 0.87, 1.08, 1.09, 1.23, 1.17, 1.09, 0.96, 1.08, 1.05, 1.22, 1.14, 1.09, 1.07]\n"
     ]
    },
    {
     "data": {
      "image/png": "[encoded data removed]",
      "text/plain": [
       "<Figure size 432x288 with 1 Axes>"
      ]
     },
     "metadata": {
      "needs_background": "light"
     },
     "output_type": "display_data"
    }
   ],
   "source": [
    "creature_list = []\n",
    "for i in range(1):\n",
    "    creature_list.append(Dove())\n",
    "\n",
    "generation_count = [0]\n",
    "dove_population = []\n",
    "hawk_population = []\n",
    "population_quotient = []\n",
    "dove_population.append(sum(creature.name == 'Dove' for creature in creature_list))\n",
    "hawk_population.append(sum(creature.name == 'Hawk' for creature in creature_list))\n",
    "if hawk_population[0] != 0:\n",
    "    population_quotient = [round(dove_population[0]/hawk_population[0], 2)]\n",
    "\n",
    "num_generations = 100\n",
    "\n",
    "for i in range(1,num_generations):\n",
    "    if i == 20:\n",
    "        creature_list.append(Hawk())\n",
    "        random.shuffle(creature_list)\n",
    "    dove_per_gen = 0\n",
    "    hawk_per_gen = 0\n",
    "    creature_list = run_generation(creature_list, carrying_capacity=1000)\n",
    "    for creature in creature_list:\n",
    "        if creature.name == 'Dove':\n",
    "            dove_per_gen += 1\n",
    "        elif creature.name == 'Hawk':\n",
    "            hawk_per_gen += 1\n",
    "    dove_population.append(dove_per_gen)\n",
    "    hawk_population.append(hawk_per_gen)\n",
    "    if hawk_population[i] != 0:\n",
    "        population_quotient.append(round(dove_population[i]/hawk_population[i],2))\n",
    "    generation_count.append(i)\n",
    "\n",
    "#print(generation_count)\n",
    "#print(dove_population)\n",
    "#print(hawk_population)\n",
    "print(population_quotient)\n",
    "\n",
    "plt.stackplot(generation_count,hawk_population,dove_population, labels = ['Hawks', 'Doves'], colors = ['red','blue'], alpha=1)\n",
    "plt.grid()\n",
    "plt.legend(loc = 'upper left')\n",
    "plt.show()"
   ]
  }
 ],
 "metadata": {
  "kernelspec": {
   "display_name": "Python 3",
   "language": "python",
   "name": "python3"
  },
  "language_info": {
   "codemirror_mode": {
    "name": "ipython",
    "version": 3
   },
   "file_extension": ".py",
   "mimetype": "text/x-python",
   "name": "python",
   "nbconvert_exporter": "python",
   "pygments_lexer": "ipython3",
   "version": "3.7.1"
  }
 },
 "nbformat": 4,
 "nbformat_minor": 2
}
