{
 "cells": [
  {
   "cell_type": "code",
   "execution_count": 1,
   "metadata": {},
   "outputs": [
    {
     "name": "stdout",
     "output_type": "stream",
     "text": [
      "importing Jupyter notebook from Creature_Forest_Base.ipynb\n"
     ]
    }
   ],
   "source": [
    "\"\"\"\n",
    "Must be run in a Jupyter notebook\n",
    "\"\"\"\n",
    "\n",
    "import numpy as np\n",
    "import matplotlib.pyplot as plt\n",
    "import import_ipynb\n",
    "from ipywidgets import interact\n",
    "from Creature_Forest_Base import *\n",
    "import seaborn as sns"
   ]
  },
  {
   "cell_type": "code",
   "execution_count": 76,
   "metadata": {},
   "outputs": [
    {
     "data": {
      "application/vnd.jupyter.widget-view+json": {
       "model_id": "a9209085f07644f498d50b15e8683be9",
       "version_major": 2,
       "version_minor": 0
      },
      "text/plain": [
       "interactive(children=(FloatSlider(value=1.0, description='a', max=2.0, step=0.25), FloatSlider(value=1.5, desc…"
      ]
     },
     "metadata": {},
     "output_type": "display_data"
    }
   ],
   "source": [
    "def plot_expectance(a=1,b=1.5,c=0.5,d=0):\n",
    "    f = np.linspace(0,1,2)\n",
    "    plt.xlabel('$fraction$' + ' ' + '$of$' + ' ' + 'A')\n",
    "    plt.ylabel('$Expectance$')\n",
    "    plt.title(r\"$a$ = {}, $b$ = {}, $c$ = {}, $d$ = {}\".format(a,b,c,d))\n",
    "    plt.plot(f, c + f*(a-c), label = 'A')\n",
    "    plt.plot(f, d + f*(b-d), label = 'B')\n",
    "    plt.legend(loc = 'upper left')\n",
    "    plt.show()\n",
    "interact(plot_expectance, a = (0,2,0.25), b = (0,2,0.25), c = (0,2,0.25), d = (0,2,0.25));"
   ]
  },
  {
   "cell_type": "code",
   "execution_count": 79,
   "metadata": {},
   "outputs": [
    {
     "data": {
      "image/png": "[encoded data removed]",
      "text/plain": [
       "<Figure size 432x288 with 1 Axes>"
      ]
     },
     "metadata": {
      "needs_background": "light"
     },
     "output_type": "display_data"
    }
   ],
   "source": [
    "payoff_dict = {\n",
    "    \"a\": 0,\n",
    "    \"b\": 2,\n",
    "    \"c\": 0.5,\n",
    "    \"d\": 0.25\n",
    "}\n",
    "\n",
    "creature_list = []\n",
    "for i in range(1):\n",
    "    creature_list.append(A())\n",
    "    creature_list.append(B())\n",
    "generation_count = [0]\n",
    "a_population = []\n",
    "b_population = []\n",
    "population_quotient = []\n",
    "a_population.append(sum(creature.name == 'A' for creature in creature_list))\n",
    "b_population.append(sum(creature.name == 'B' for creature in creature_list))\n",
    "if b_population[0] != 0:\n",
    "    population_quotient = [round(a_population[0]/b_population[0], 2)]\n",
    "num_generations = 100\n",
    "for i in range(1,num_generations):\n",
    "    a_per_gen = 0\n",
    "    b_per_gen = 0\n",
    "    creature_list = run__generalised_generation(creature_list, payoff_dict=payoff_dict, \n",
    "                                                carrying_capacity=1000, ageing_rate=0)\n",
    "    for creature in creature_list:\n",
    "        if creature.name == 'A':\n",
    "            a_per_gen += 1\n",
    "        elif creature.name == 'B':\n",
    "            b_per_gen += 1\n",
    "    a_population.append(a_per_gen)\n",
    "    b_population.append(b_per_gen)\n",
    "    if b_population[i] != 0:\n",
    "        population_quotient.append(round(a_population[i]/b_population[i],2))\n",
    "    generation_count.append(i)\n",
    "plt.stackplot(generation_count,a_population,b_population, labels = ['A', 'B'], colors = ['blue', 'orange'], alpha=1)\n",
    "plt.grid()\n",
    "plt.legend(loc = 'upper left')\n",
    "plt.show()"
   ]
  }
 ],
 "metadata": {
  "kernelspec": {
   "display_name": "Python 3",
   "language": "python",
   "name": "python3"
  },
  "language_info": {
   "codemirror_mode": {
    "name": "ipython",
    "version": 3
   },
   "file_extension": ".py",
   "mimetype": "text/x-python",
   "name": "python",
   "nbconvert_exporter": "python",
   "pygments_lexer": "ipython3",
   "version": "3.7.1"
  }
 },
 "nbformat": 4,
 "nbformat_minor": 2
}
