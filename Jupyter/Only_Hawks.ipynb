{
 "cells": [
  {
   "cell_type": "code",
   "execution_count": 2,
   "metadata": {},
   "outputs": [
    {
     "name": "stdout",
     "output_type": "stream",
     "text": [
      "importing Jupyter notebook from Creature_Forest_Base.ipynb\n"
     ]
    }
   ],
   "source": [
    "import import_ipynb\n",
    "from Creature_Forest_Base import *\n",
    "import seaborn as sns"
   ]
  },
  {
   "cell_type": "code",
   "execution_count": 3,
   "metadata": {},
   "outputs": [
    {
     "name": "stdout",
     "output_type": "stream",
     "text": [
      "[0, 1, 2, 3, 4, 5, 6, 7, 8, 9, 10, 11, 12, 13, 14, 15, 16, 17, 18, 19, 20, 21, 22, 23, 24, 25, 26, 27, 28, 29, 30, 31, 32, 33, 34, 35, 36, 37, 38, 39, 40, 41, 42, 43, 44, 45, 46, 47, 48, 49, 50, 51, 52, 53, 54, 55, 56, 57, 58, 59, 60, 61, 62, 63, 64, 65, 66, 67, 68, 69, 70, 71, 72, 73, 74, 75, 76, 77, 78, 79, 80, 81, 82, 83, 84, 85, 86, 87, 88, 89, 90, 91, 92, 93, 94, 95, 96, 97, 98, 99]\n",
      "[1, 2, 4, 8, 16, 32, 56, 112, 180, 236, 296, 336, 340, 360, 396, 384, 324, 340, 356, 344, 356, 376, 316, 368, 340, 408, 412, 368, 312, 344, 344, 352, 348, 344, 380, 376, 360, 372, 364, 364, 348, 336, 328, 344, 340, 340, 388, 352, 360, 340, 336, 348, 356, 360, 360, 372, 316, 400, 384, 360, 360, 336, 292, 336, 348, 348, 332, 344, 372, 376, 372, 376, 380, 392, 388, 332, 340, 344, 376, 368, 364, 384, 356, 360, 344, 356, 372, 384, 348, 328, 316, 348, 344, 380, 340, 348, 364, 368, 372, 392]\n"
     ]
    },
    {
     "data": {
      "image/png": "[encoded data removed]",
      "text/plain": [
       "<Figure size 432x288 with 1 Axes>"
      ]
     },
     "metadata": {
      "needs_background": "light"
     },
     "output_type": "display_data"
    }
   ],
   "source": [
    "creature_list = []\n",
    "for i in range(1):\n",
    "    creature_list.append(Hawk())\n",
    "\n",
    "generation_count = [0]\n",
    "population_count = [len(creature_list)]\n",
    "\n",
    "num_generations = 100\n",
    "\n",
    "for i in range(1,num_generations):\n",
    "    creature_list = run_generation(creature_list, carrying_capacity=1000)\n",
    "    population = len(creature_list)\n",
    "    population_count.append(population)\n",
    "    generation_count.append(i)\n",
    "\n",
    "print(generation_count)\n",
    "print(population_count)\n",
    "\n",
    "pal = sns.color_palette(\"Set1\")\n",
    "plt.stackplot(generation_count, population_count, labels = ['Hawks'], colors = pal, alpha=0.5)\n",
    "plt.grid()\n",
    "plt.legend(loc = 'upper left')\n",
    "plt.show()"
   ]
  }
 ],
 "metadata": {
  "kernelspec": {
   "display_name": "Python 3",
   "language": "python",
   "name": "python3"
  },
  "language_info": {
   "codemirror_mode": {
    "name": "ipython",
    "version": 3
   },
   "file_extension": ".py",
   "mimetype": "text/x-python",
   "name": "python",
   "nbconvert_exporter": "python",
   "pygments_lexer": "ipython3",
   "version": "3.7.1"
  }
 },
 "nbformat": 4,
 "nbformat_minor": 2
}
