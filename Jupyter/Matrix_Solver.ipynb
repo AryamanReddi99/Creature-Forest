{
 "cells": [
  {
   "cell_type": "code",
   "execution_count": 2,
   "metadata": {},
   "outputs": [],
   "source": [
    "import sympy as sp\n",
    "import numpy as np"
   ]
  },
  {
   "cell_type": "code",
   "execution_count": 5,
   "metadata": {},
   "outputs": [
    {
     "name": "stdout",
     "output_type": "stream",
     "text": [
      "((a*(-k2 + 1)**2 + b*k2*(-k2 + 1) + c*k2*(-k2 + 1) + d*k2**2)*(a*(-k3 + 1)**2 + b*k3*(-k3 + 1) + c*k3*(-k3 + 1) + d*k3**2) - (a*(-k2 + 1)*(-k3 + 1) + b*k2*(-k3 + 1) + c*k3*(-k2 + 1) + d*k2*k3)*(a*(-k2 + 1)*(-k3 + 1) + b*k3*(-k2 + 1) + c*k2*(-k3 + 1) + d*k2*k3))*(a*(-k1 + 1)**2 + b*k1*(-k1 + 1) + c*k1*(-k1 + 1) + d*k1**2) + (-(a*(-k2 + 1)**2 + b*k2*(-k2 + 1) + c*k2*(-k2 + 1) + d*k2**2)*(a*(-k1 + 1)*(-k3 + 1) + b*k3*(-k1 + 1) + c*k1*(-k3 + 1) + d*k1*k3) + (a*(-k1 + 1)*(-k2 + 1) + b*k2*(-k1 + 1) + c*k1*(-k2 + 1) + d*k1*k2)*(a*(-k2 + 1)*(-k3 + 1) + b*k3*(-k2 + 1) + c*k2*(-k3 + 1) + d*k2*k3))*(a*(-k1 + 1)*(-k3 + 1) + b*k1*(-k3 + 1) + c*k3*(-k1 + 1) + d*k1*k3) - ((a*(-k3 + 1)**2 + b*k3*(-k3 + 1) + c*k3*(-k3 + 1) + d*k3**2)*(a*(-k1 + 1)*(-k2 + 1) + b*k2*(-k1 + 1) + c*k1*(-k2 + 1) + d*k1*k2) - (a*(-k1 + 1)*(-k3 + 1) + b*k3*(-k1 + 1) + c*k1*(-k3 + 1) + d*k1*k3)*(a*(-k2 + 1)*(-k3 + 1) + b*k2*(-k3 + 1) + c*k3*(-k2 + 1) + d*k2*k3))*(a*(-k1 + 1)*(-k2 + 1) + b*k1*(-k2 + 1) + c*k2*(-k1 + 1) + d*k1*k2)\n",
      "0\n"
     ]
    }
   ],
   "source": [
    "a,b,c,d = sp.symbols('a b c d')\n",
    "matrix_dict={}\n",
    "for i in range(1,4):\n",
    "    for j in range(1,4):\n",
    "        ki = sp.symbols('k{}'.format(i))\n",
    "        kj = sp.symbols('k{}'.format(j))\n",
    "        matrix_term = 'A{}{}'.format(i,j)\n",
    "        expectance = (1-ki)*(1-kj)*a + (1-ki)*(kj)*c + (ki)*(kj)*d + (ki)*(1-kj)*b\n",
    "        matrix_dict[matrix_term] = expectance\n",
    "det = matrix_dict.get(\"A11\")*(matrix_dict.get(\"A22\")*matrix_dict.get(\"A33\")-matrix_dict.get(\"A32\")*matrix_dict.get(\"A23\")) - matrix_dict.get(\"A12\")*(matrix_dict.get(\"A21\")*matrix_dict.get(\"A33\") - matrix_dict.get(\"A31\")*matrix_dict.get(\"A23\")) + matrix_dict.get(\"A13\")*(matrix_dict.get(\"A21\")*matrix_dict.get(\"A32\")-matrix_dict.get(\"A31\")*matrix_dict.get(\"A22\"))\n",
    "print(det)\n",
    "print(sp.expand(det))"
   ]
  },
  {
   "cell_type": "code",
   "execution_count": 67,
   "metadata": {},
   "outputs": [
    {
     "name": "stdout",
     "output_type": "stream",
     "text": [
      "[0.  0.2 0.4 0.6 0.8 1. ]\n",
      "[[5.   4.2  3.4  2.6  1.8  1.  ]\n",
      " [4.6  3.84 3.08 2.32 1.56 0.8 ]\n",
      " [4.2  3.48 2.76 2.04 1.32 0.6 ]\n",
      " [3.8  3.12 2.44 1.76 1.08 0.4 ]\n",
      " [3.4  2.76 2.12 1.48 0.84 0.2 ]\n",
      " [3.   2.4  1.8  1.2  0.6  0.  ]]\n",
      "-0.0\n",
      "[[E]\n",
      " [E]\n",
      " [E]]\n"
     ]
    }
   ],
   "source": [
    "genes = np.linspace(0,1,6)\n",
    "print(genes)\n",
    "expectance_matrix = np.zeros([len(genes),len(genes)])\n",
    "payoff_dict={\n",
    "    \"a\":1,\n",
    "    \"b\":1.5,\n",
    "    \"c\":0.5,\n",
    "    \"d\":0\n",
    "}\n",
    "for i in range(len(genes)):\n",
    "    for j in range(len(genes)):\n",
    "        ki = genes[i]\n",
    "        kj = genes[j]\n",
    "        expectance = (1-ki)*(1-kj)*payoff_matrix.get(\"a\") + (1-ki)*(kj)*payoff_matrix.get(\"c\") + (ki)*(kj)*payoff_matrix.get(\"d\") + (ki)*(1-kj)*payoff_matrix.get(\"b\")\n",
    "        expectance_matrix[i][j] = expectance\n",
    "print(expectance_matrix)\n",
    "print(round(np.linalg.det(expectance_matrix),10))\n",
    "#print(np.linalg.inv(expectance_matrix))\n",
    "\n",
    "E = sp.symbols('E')\n",
    "E_matrix = np.array(([E],[E],[E]))\n",
    "print(E_matrix)\n",
    "\n"
   ]
  }
 ],
 "metadata": {
  "kernelspec": {
   "display_name": "Python 3",
   "language": "python",
   "name": "python3"
  },
  "language_info": {
   "codemirror_mode": {
    "name": "ipython",
    "version": 3
   },
   "file_extension": ".py",
   "mimetype": "text/x-python",
   "name": "python",
   "nbconvert_exporter": "python",
   "pygments_lexer": "ipython3",
   "version": "3.7.1"
  }
 },
 "nbformat": 4,
 "nbformat_minor": 2
}
