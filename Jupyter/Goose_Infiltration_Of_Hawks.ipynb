{
 "cells": [
  {
   "cell_type": "code",
   "execution_count": 1,
   "metadata": {},
   "outputs": [
    {
     "name": "stdout",
     "output_type": "stream",
     "text": [
      "importing Jupyter notebook from Creature_Forest_Base.ipynb\n"
     ]
    }
   ],
   "source": [
    "import import_ipynb\n",
    "from Creature_Forest_Base import *"
   ]
  },
  {
   "cell_type": "code",
   "execution_count": 3,
   "metadata": {},
   "outputs": [
    {
     "name": "stdout",
     "output_type": "stream",
     "text": [
      "[1, 2, 4, 8, 16, 32, 64, 116, 192, 260, 316, 312, 356, 368, 328, 328, 320, 332, 350, 338, 394, 346, 360, 342, 348, 362, 394, 344, 344, 356, 364, 344, 376, 344, 332, 324, 348, 328, 320, 348, 328, 348, 336, 348, 348, 340, 368, 364, 352, 392, 376, 300, 348, 348, 340, 336, 364, 380, 364, 336, 408, 376, 388, 388, 360, 348, 324, 296, 332, 328, 352, 312, 332, 368, 364, 348, 376, 388, 360, 336, 356, 376, 360, 388, 360, 372, 368, 336, 356, 384, 348, 372, 404, 336, 340, 372, 388, 344, 380, 400]\n",
      "[0, 0, 0, 0, 0, 0, 0, 0, 0, 0, 0, 0, 0, 0, 0, 8, 12, 8, 6, 2, 2, 2, 4, 2, 4, 6, 2, 0, 0, 0, 0, 0, 0, 0, 0, 0, 0, 0, 0, 0, 0, 0, 0, 0, 0, 0, 0, 0, 0, 0, 0, 0, 0, 0, 0, 0, 0, 0, 0, 0, 0, 0, 0, 0, 0, 0, 0, 0, 0, 0, 0, 0, 0, 0, 0, 0, 0, 0, 0, 0, 0, 0, 0, 0, 0, 0, 0, 0, 0, 0, 0, 0, 0, 0, 0, 0, 0, 0, 0, 0]\n"
     ]
    },
    {
     "data": {
      "image/png": "[encoded data removed]",
      "text/plain": [
       "<Figure size 432x288 with 1 Axes>"
      ]
     },
     "metadata": {
      "needs_background": "light"
     },
     "output_type": "display_data"
    }
   ],
   "source": [
    "\"\"\"\n",
    "Geese have a chance of infiltrating a hawk population if they reach a critical size\n",
    "\"\"\"\n",
    "\n",
    "\n",
    "\n",
    "creature_list = []\n",
    "for i in range(1):\n",
    "    creature_list.append(Hawk())\n",
    "\n",
    "generation_count = [0]\n",
    "dove_population  = []\n",
    "hawk_population  = []\n",
    "goose_population = []\n",
    "population_quotient = []\n",
    "dove_population.append(sum(creature.name == 'Dove' for creature in creature_list))\n",
    "hawk_population.append(sum(creature.name == 'Hawk' for creature in creature_list))\n",
    "goose_population.append(sum(creature.name == 'Goose' for creature in creature_list))\n",
    "\n",
    "num_generations = 100\n",
    "\n",
    "for i in range(1,num_generations):\n",
    "    if i == 15:\n",
    "        creature_list.extend([Goose() for j in range(10)])\n",
    "    geese_per_gen = 0\n",
    "    dove_per_gen = 0\n",
    "    hawk_per_gen = 0\n",
    "    creature_list = run_generation(creature_list, carrying_capacity=1000)\n",
    "    for creature in creature_list:\n",
    "        if creature.name == 'Dove':\n",
    "            dove_per_gen += 1\n",
    "        elif creature.name == 'Hawk':\n",
    "            hawk_per_gen += 1\n",
    "        elif creature.name == 'Goose':\n",
    "            geese_per_gen += 1\n",
    "    dove_population.append(dove_per_gen)\n",
    "    hawk_population.append(hawk_per_gen)\n",
    "    goose_population.append(geese_per_gen)\n",
    "    if hawk_population[i] != 0:\n",
    "        population_quotient.append(round(dove_population[i]/hawk_population[i],2))\n",
    "    generation_count.append(i)\n",
    "\n",
    "#print(generation_count)\n",
    "#print(dove_population)\n",
    "#print(hawk_population)\n",
    "#print(population_quotient)\n",
    "\n",
    "print(hawk_population)\n",
    "print(goose_population)\n",
    "\n",
    "plt.stackplot(generation_count,goose_population,hawk_population, labels = ['Geese', 'Hawks'], colors = ['teal','red'], alpha=1)\n",
    "plt.grid()\n",
    "plt.legend(loc = 'upper left')\n",
    "plt.show()"
   ]
  }
 ],
 "metadata": {
  "kernelspec": {
   "display_name": "Python 3",
   "language": "python",
   "name": "python3"
  },
  "language_info": {
   "codemirror_mode": {
    "name": "ipython",
    "version": 3
   },
   "file_extension": ".py",
   "mimetype": "text/x-python",
   "name": "python",
   "nbconvert_exporter": "python",
   "pygments_lexer": "ipython3",
   "version": "3.7.1"
  }
 },
 "nbformat": 4,
 "nbformat_minor": 2
}
