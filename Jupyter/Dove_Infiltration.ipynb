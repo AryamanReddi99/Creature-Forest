{
 "cells": [
  {
   "cell_type": "code",
   "execution_count": 2,
   "metadata": {},
   "outputs": [
    {
     "name": "stdout",
     "output_type": "stream",
     "text": [
      "importing Jupyter notebook from Creature_Forest_Base.ipynb\n"
     ]
    }
   ],
   "source": [
    "import import_ipynb\n",
    "from Creature_Forest_Base import *"
   ]
  },
  {
   "cell_type": "code",
   "execution_count": 6,
   "metadata": {},
   "outputs": [
    {
     "name": "stdout",
     "output_type": "stream",
     "text": [
      "[0.0, 0.0, 0.0, 0.0, 0.0, 0.0, 0.0, 0.0, 0.0, 0.0, 0.01, 0.01, 0.01, 0.01, 0.01, 0.01, 0.02, 0.02, 0.02, 0.01, 0.02, 0.03, 0.04, 0.05, 0.05, 0.05, 0.08, 0.09, 0.1, 0.13, 0.18, 0.19, 0.22, 0.27, 0.29, 0.35, 0.37, 0.44, 0.44, 0.51, 0.59, 0.59, 0.67, 0.73, 0.73, 0.77, 0.8, 0.85, 0.83, 0.86, 0.86, 0.91, 0.88, 0.81, 0.78, 0.88, 0.9, 0.87, 0.85, 0.99, 1.02, 0.97, 0.97, 1.08, 1.01, 0.95, 0.92, 1.02, 1.06, 1.06, 0.95, 0.96, 1.0, 1.01, 1.04, 1.11, 1.18, 1.05, 1.01, 1.04, 1.02, 0.92, 0.96, 1.09, 1.04, 0.95, 0.87, 0.99, 1.04, 0.93, 0.97, 0.98, 0.95, 0.92, 0.89, 0.95, 0.84, 0.79, 0.84, 0.84]\n"
     ]
    },
    {
     "data": {
      "image/png": "[encoded data removed]",
      "text/plain": [
       "<Figure size 432x288 with 1 Axes>"
      ]
     },
     "metadata": {
      "needs_background": "light"
     },
     "output_type": "display_data"
    }
   ],
   "source": [
    "creature_list = []\n",
    "for i in range(1):\n",
    "    creature_list.append(Hawk())\n",
    "\n",
    "generation_count = [0]\n",
    "dove_population = []\n",
    "hawk_population = []\n",
    "population_quotient = []\n",
    "dove_population.append(sum(creature.name == 'Dove' for creature in creature_list))\n",
    "hawk_population.append(sum(creature.name == 'Hawk' for creature in creature_list))\n",
    "if hawk_population[0] != 0:\n",
    "    population_quotient = [round(dove_population[0]/hawk_population[0], 2)]\n",
    "\n",
    "num_generations = 100\n",
    "\n",
    "for i in range(1,num_generations):\n",
    "    if i == 10:\n",
    "        creature_list.append(Dove())\n",
    "        random.shuffle(creature_list)\n",
    "    dove_per_gen = 0\n",
    "    hawk_per_gen = 0\n",
    "    creature_list = run_generation(creature_list, carrying_capacity=1000)\n",
    "    for creature in creature_list:\n",
    "        if creature.name == 'Dove':\n",
    "            dove_per_gen += 1\n",
    "        elif creature.name == 'Hawk':\n",
    "            hawk_per_gen += 1\n",
    "    dove_population.append(dove_per_gen)\n",
    "    hawk_population.append(hawk_per_gen)\n",
    "    if hawk_population[i] != 0:\n",
    "        population_quotient.append(round(dove_population[i]/hawk_population[i],2))\n",
    "    generation_count.append(i)\n",
    "\n",
    "#print(generation_count)\n",
    "#print(dove_population)\n",
    "#print(hawk_population)\n",
    "print(population_quotient)\n",
    "\n",
    "plt.stackplot(generation_count,hawk_population,dove_population, labels = ['Hawks', 'Doves'], colors = ['red', 'blue'], alpha=1)\n",
    "plt.grid()\n",
    "plt.legend(loc = 'upper left')\n",
    "plt.show()"
   ]
  }
 ],
 "metadata": {
  "kernelspec": {
   "display_name": "Python 3",
   "language": "python",
   "name": "python3"
  },
  "language_info": {
   "codemirror_mode": {
    "name": "ipython",
    "version": 3
   },
   "file_extension": ".py",
   "mimetype": "text/x-python",
   "name": "python",
   "nbconvert_exporter": "python",
   "pygments_lexer": "ipython3",
   "version": "3.7.1"
  }
 },
 "nbformat": 4,
 "nbformat_minor": 2
}
