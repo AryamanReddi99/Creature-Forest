{
 "cells": [
  {
   "cell_type": "code",
   "execution_count": 1,
   "metadata": {},
   "outputs": [
    {
     "name": "stdout",
     "output_type": "stream",
     "text": [
      "importing Jupyter notebook from Creature_Forest_Base.ipynb\n"
     ]
    }
   ],
   "source": [
    "import import_ipynb\n",
    "from Creature_Forest_Base import *"
   ]
  },
  {
   "cell_type": "code",
   "execution_count": 2,
   "metadata": {},
   "outputs": [
    {
     "name": "stdout",
     "output_type": "stream",
     "text": [
      "[0, 1, 2, 3, 4, 5, 6, 7, 8, 9, 10, 11, 12, 13, 14, 15, 16, 17, 18, 19]\n",
      "[1, 2, 4, 8, 16, 32, 58, 108, 190, 314, 490, 662, 834, 922, 982, 996, 1000, 1000, 1000, 1000]\n"
     ]
    },
    {
     "data": {
      "image/png": "[encoded data removed]",
      "text/plain": [
       "<Figure size 432x288 with 1 Axes>"
      ]
     },
     "metadata": {
      "needs_background": "light"
     },
     "output_type": "display_data"
    }
   ],
   "source": [
    "creature_list = []\n",
    "for i in range(1):\n",
    "    creature_list.append(Dove())\n",
    "\n",
    "generation_count = [0]\n",
    "population_count = [len(creature_list)]\n",
    "\n",
    "num_generations = 20\n",
    "\n",
    "for i in range(1,num_generations):\n",
    "    creature_list = run_generation(creature_list, carrying_capacity=1000)\n",
    "    population = len(creature_list)\n",
    "    population_count.append(population)\n",
    "    generation_count.append(i)\n",
    "\n",
    "print(generation_count)\n",
    "print(population_count)\n",
    "\n",
    "plt.stackplot(generation_count, population_count, labels = ['Doves'], colors = ['blue'], alpha=0.5)\n",
    "plt.grid()\n",
    "plt.legend(loc = 'upper left')\n",
    "plt.show()"
   ]
  }
 ],
 "metadata": {
  "kernelspec": {
   "display_name": "Python 3",
   "language": "python",
   "name": "python3"
  },
  "language_info": {
   "codemirror_mode": {
    "name": "ipython",
    "version": 3
   },
   "file_extension": ".py",
   "mimetype": "text/x-python",
   "name": "python",
   "nbconvert_exporter": "python",
   "pygments_lexer": "ipython3",
   "version": "3.7.1"
  }
 },
 "nbformat": 4,
 "nbformat_minor": 2
}
