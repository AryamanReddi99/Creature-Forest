{
 "cells": [
  {
   "cell_type": "code",
   "execution_count": 1,
   "metadata": {},
   "outputs": [
    {
     "name": "stdout",
     "output_type": "stream",
     "text": [
      "importing Jupyter notebook from Creature_Forest_Base.ipynb\n"
     ]
    }
   ],
   "source": [
    "import import_ipynb\n",
    "from Creature_Forest_Base import *\n",
    "import seaborn as sns"
   ]
  },
  {
   "cell_type": "code",
   "execution_count": 27,
   "metadata": {},
   "outputs": [
    {
     "name": "stdout",
     "output_type": "stream",
     "text": [
      "[1, 2, 4, 8, 16, 32, 62, 118, 224, 384, 584, 760, 884, 938, 982, 990, 997, 994, 994, 990, 984, 967, 953, 924, 887, 851, 792, 695, 601, 499, 358, 226, 141, 82, 51, 23, 12, 4, 3, 2, 2, 0, 0, 0, 0, 0, 0, 0, 0, 0]\n",
      "[0, 0, 0, 0, 0, 0, 0, 0, 0, 0, 0, 0, 0, 0, 0, 2, 3, 4, 7, 12, 21, 31, 49, 73, 109, 156, 226, 304, 399, 516, 635, 750, 853, 915, 955, 975, 987, 992, 998, 998, 999, 999, 1000, 1000, 1000, 1000, 1000, 1000, 1000, 1000]\n"
     ]
    },
    {
     "data": {
      "image/png": "[encoded data removed]",
      "text/plain": [
       "<Figure size 432x288 with 1 Axes>"
      ]
     },
     "metadata": {
      "needs_background": "light"
     },
     "output_type": "display_data"
    }
   ],
   "source": [
    "\"\"\"\n",
    "This is the prisoner's dilemma. It's always better to play crow\n",
    "\"\"\"\n",
    "\n",
    "\n",
    "creature_list = []\n",
    "for i in range(1):\n",
    "    creature_list.append(Dove())\n",
    "\n",
    "generation_count = [0]\n",
    "dove_population  = []\n",
    "hawk_population  = []\n",
    "goose_population = []\n",
    "crow_population = []\n",
    "#population_quotient = []\n",
    "dove_population.append(sum(creature.name == 'Dove' for creature in creature_list))\n",
    "hawk_population.append(sum(creature.name == 'Hawk' for creature in creature_list))\n",
    "goose_population.append(sum(creature.name == 'Goose' for creature in creature_list))\n",
    "crow_population.append(sum(creature.name == 'Crow' for creature in creature_list))\n",
    "\n",
    "num_generations = 50\n",
    "\n",
    "for i in range(1,num_generations):\n",
    "    if i == 15:\n",
    "        creature_list.extend([Crow() for j in range(1)])\n",
    "    geese_per_gen = 0\n",
    "    dove_per_gen = 0\n",
    "    hawk_per_gen = 0\n",
    "    crow_per_gen = 0\n",
    "    creature_list = run_generation(creature_list, carrying_capacity=1000)\n",
    "    for creature in creature_list:\n",
    "        if creature.name == 'Dove':\n",
    "            dove_per_gen += 1\n",
    "        elif creature.name == 'Hawk':\n",
    "            hawk_per_gen += 1\n",
    "        elif creature.name == 'Goose':\n",
    "            geese_per_gen += 1\n",
    "        elif creature.name == 'Crow':\n",
    "            crow_per_gen += 1\n",
    "    dove_population.append(dove_per_gen)\n",
    "    hawk_population.append(hawk_per_gen)\n",
    "    goose_population.append(geese_per_gen)\n",
    "    crow_population.append(crow_per_gen)\n",
    "    #if hawk_population[i] != 0:\n",
    "    #    population_quotient.append(round(dove_population[i]/hawk_population[i],2))\n",
    "    generation_count.append(i)\n",
    "\n",
    "#print(generation_count)\n",
    "print(dove_population)\n",
    "#print(hawk_population)\n",
    "#print(goose_population)\n",
    "print(crow_population)\n",
    "#print(population_quotient)\n",
    "\n",
    "#pal = sns.color_palette(\"Set1\")\n",
    "plt.stackplot(generation_count, crow_population,dove_population,labels = ['Crows','Doves'], colors = [\"orange\", \"teal\"], alpha=1)\n",
    "plt.grid()\n",
    "plt.legend(loc = 'upper left')\n",
    "plt.show()"
   ]
  }
 ],
 "metadata": {
  "kernelspec": {
   "display_name": "Python 3",
   "language": "python",
   "name": "python3"
  },
  "language_info": {
   "codemirror_mode": {
    "name": "ipython",
    "version": 3
   },
   "file_extension": ".py",
   "mimetype": "text/x-python",
   "name": "python",
   "nbconvert_exporter": "python",
   "pygments_lexer": "ipython3",
   "version": "3.7.1"
  }
 },
 "nbformat": 4,
 "nbformat_minor": 2
}
