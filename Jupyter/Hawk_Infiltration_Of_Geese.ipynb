{
 "cells": [
  {
   "cell_type": "code",
   "execution_count": 2,
   "metadata": {},
   "outputs": [
    {
     "name": "stdout",
     "output_type": "stream",
     "text": [
      "importing Jupyter notebook from Creature_Forest_Base.ipynb\n"
     ]
    }
   ],
   "source": [
    "import import_ipynb\n",
    "from Creature_Forest_Base import *\n",
    "import seaborn as sns"
   ]
  },
  {
   "cell_type": "code",
   "execution_count": 21,
   "metadata": {},
   "outputs": [
    {
     "name": "stdout",
     "output_type": "stream",
     "text": [
      "[0, 0, 0, 0, 0, 0, 0, 0, 0, 0, 112, 126, 126, 106, 72, 28, 14, 2, 0, 0, 0, 0, 0, 0, 0, 0, 0, 0, 0, 0]\n",
      "[1, 2, 4, 8, 16, 32, 62, 112, 210, 348, 208, 266, 348, 432, 526, 632, 758, 856, 948, 984, 998, 1000, 1000, 1000, 1000, 1000, 1000, 1000, 1000, 1000]\n"
     ]
    },
    {
     "data": {
      "image/png": "[encoded data removed]",
      "text/plain": [
       "<Figure size 432x288 with 1 Axes>"
      ]
     },
     "metadata": {
      "needs_background": "light"
     },
     "output_type": "display_data"
    }
   ],
   "source": [
    "\"\"\"\n",
    "Hawks cannot infiltrate a goose population and are quickly killed off\n",
    "\"\"\"\n",
    "\n",
    "creature_list = []\n",
    "for i in range(1):\n",
    "    creature_list.append(Goose())\n",
    "\n",
    "generation_count = [0]\n",
    "dove_population  = []\n",
    "hawk_population  = []\n",
    "goose_population = []\n",
    "population_quotient = []\n",
    "dove_population.append(sum(creature.name == 'Dove' for creature in creature_list))\n",
    "hawk_population.append(sum(creature.name == 'Hawk' for creature in creature_list))\n",
    "goose_population.append(sum(creature.name == 'Goose' for creature in creature_list))\n",
    "\n",
    "num_generations = 30\n",
    "\n",
    "for i in range(1,num_generations):\n",
    "    if i == 10:\n",
    "        creature_list.extend([Hawk() for j in range(500)])\n",
    "    geese_per_gen = 0\n",
    "    dove_per_gen = 0\n",
    "    hawk_per_gen = 0\n",
    "    creature_list = run_generation(creature_list, carrying_capacity=1000)\n",
    "    for creature in creature_list:\n",
    "        if creature.name == 'Dove':\n",
    "            dove_per_gen += 1\n",
    "        elif creature.name == 'Hawk':\n",
    "            hawk_per_gen += 1\n",
    "        elif creature.name == 'Goose':\n",
    "            geese_per_gen += 1\n",
    "    dove_population.append(dove_per_gen)\n",
    "    hawk_population.append(hawk_per_gen)\n",
    "    goose_population.append(geese_per_gen)\n",
    "    if hawk_population[i] != 0:\n",
    "        population_quotient.append(round(dove_population[i]/hawk_population[i],2))\n",
    "    generation_count.append(i)\n",
    "\n",
    "#print(generation_count)\n",
    "#print(dove_population)\n",
    "#print(hawk_population)\n",
    "#print(population_quotient)\n",
    "\n",
    "print(hawk_population)\n",
    "print(goose_population)\n",
    "\n",
    "pal = sns.color_palette(\"Set2\")\n",
    "plt.stackplot(generation_count,hawk_population,goose_population, labels = ['Hawks', 'Geese'], colors = pal, alpha=0.7)\n",
    "plt.grid()\n",
    "plt.legend(loc = 'upper left')\n",
    "plt.show()"
   ]
  }
 ],
 "metadata": {
  "kernelspec": {
   "display_name": "Python 3",
   "language": "python",
   "name": "python3"
  },
  "language_info": {
   "codemirror_mode": {
    "name": "ipython",
    "version": 3
   },
   "file_extension": ".py",
   "mimetype": "text/x-python",
   "name": "python",
   "nbconvert_exporter": "python",
   "pygments_lexer": "ipython3",
   "version": "3.7.1"
  }
 },
 "nbformat": 4,
 "nbformat_minor": 2
}
