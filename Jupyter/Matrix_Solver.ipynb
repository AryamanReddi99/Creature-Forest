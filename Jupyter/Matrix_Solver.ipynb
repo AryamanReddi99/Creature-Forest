{
 "cells": [
  {
   "cell_type": "code",
   "execution_count": 5,
   "metadata": {},
   "outputs": [],
   "source": [
    "import sympy as sp"
   ]
  },
  {
   "cell_type": "code",
   "execution_count": 70,
   "metadata": {},
   "outputs": [
    {
     "name": "stdout",
     "output_type": "stream",
     "text": [
      "((a*(-k2 + 1)**2 + b*k2*(-k2 + 1) + c*k2*(-k1 + 1) + d*k2**2)*(a*(-k3 + 1)**2 + b*k3*(-k3 + 1) + c*k3*(-k1 + 1) + d*k3**2) - (a*(-k2 + 1)*(-k3 + 1) + b*k2*(-k3 + 1) + c*k3*(-k1 + 1) + d*k2*k3)*(a*(-k2 + 1)*(-k3 + 1) + b*k3*(-k2 + 1) + c*k2*(-k1 + 1) + d*k2*k3))*(a*(-k1 + 1)**2 + b*k1*(-k1 + 1) + c*k1*(-k1 + 1) + d*k1**2) + (-(a*(-k2 + 1)**2 + b*k2*(-k2 + 1) + c*k2*(-k1 + 1) + d*k2**2)*(a*(-k1 + 1)*(-k3 + 1) + b*k3*(-k1 + 1) + c*k1*(-k1 + 1) + d*k1*k3) + (a*(-k1 + 1)*(-k2 + 1) + b*k2*(-k1 + 1) + c*k1*(-k1 + 1) + d*k1*k2)*(a*(-k2 + 1)*(-k3 + 1) + b*k3*(-k2 + 1) + c*k2*(-k1 + 1) + d*k2*k3))*(a*(-k1 + 1)*(-k3 + 1) + b*k1*(-k3 + 1) + c*k3*(-k1 + 1) + d*k1*k3) - ((a*(-k3 + 1)**2 + b*k3*(-k3 + 1) + c*k3*(-k1 + 1) + d*k3**2)*(a*(-k1 + 1)*(-k2 + 1) + b*k2*(-k1 + 1) + c*k1*(-k1 + 1) + d*k1*k2) - (a*(-k1 + 1)*(-k3 + 1) + b*k3*(-k1 + 1) + c*k1*(-k1 + 1) + d*k1*k3)*(a*(-k2 + 1)*(-k3 + 1) + b*k2*(-k3 + 1) + c*k3*(-k1 + 1) + d*k2*k3))*(a*(-k1 + 1)*(-k2 + 1) + b*k1*(-k2 + 1) + c*k2*(-k1 + 1) + d*k1*k2)\n",
      "0\n"
     ]
    }
   ],
   "source": [
    "a,b,c,d = sp.symbols('a b c d')\n",
    "matrix_dict={}\n",
    "for i in range(1,4):\n",
    "    for j in range(1,4):\n",
    "        ki = sp.symbols('k{}'.format(i))\n",
    "        kj = sp.symbols('k{}'.format(j))\n",
    "        matrix_term = 'A{}{}'.format(i,j)\n",
    "        expectance = (1-ki)*(1-kj)*a + (1-k1)*(kj)*c + (ki)*(kj)*d + (ki)*(1-kj)*b\n",
    "        matrix_dict[matrix_term] = expectance\n",
    "det = matrix_dict.get(\"A11\")*(matrix_dict.get(\"A22\")*matrix_dict.get(\"A33\")-matrix_dict.get(\"A32\")*matrix_dict.get(\"A23\")) - matrix_dict.get(\"A12\")*(matrix_dict.get(\"A21\")*matrix_dict.get(\"A33\") - matrix_dict.get(\"A31\")*matrix_dict.get(\"A23\")) + matrix_dict.get(\"A13\")*(matrix_dict.get(\"A21\")*matrix_dict.get(\"A32\")-matrix_dict.get(\"A31\")*matrix_dict.get(\"A22\"))\n",
    "print(det)\n",
    "print(sp.expand(det))"
   ]
  },
  {
   "cell_type": "code",
   "execution_count": 61,
   "metadata": {},
   "outputs": [
    {
     "name": "stdout",
     "output_type": "stream",
     "text": [
      "{'hi9': 0}\n"
     ]
    }
   ],
   "source": [
    "dicti = {}\n",
    "dicti[\"hi{}\".format(9)] = 0\n",
    "print(dicti)"
   ]
  }
 ],
 "metadata": {
  "kernelspec": {
   "display_name": "Python 3",
   "language": "python",
   "name": "python3"
  },
  "language_info": {
   "codemirror_mode": {
    "name": "ipython",
    "version": 3
   },
   "file_extension": ".py",
   "mimetype": "text/x-python",
   "name": "python",
   "nbconvert_exporter": "python",
   "pygments_lexer": "ipython3",
   "version": "3.7.1"
  }
 },
 "nbformat": 4,
 "nbformat_minor": 2
}
